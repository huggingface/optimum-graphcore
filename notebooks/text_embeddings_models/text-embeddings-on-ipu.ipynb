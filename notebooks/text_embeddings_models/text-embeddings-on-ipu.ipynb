{
 "cells": [
  {
   "cell_type": "markdown",
   "id": "13f588db-977d-487c-aae5-1f6a76ff5376",
   "metadata": {},
   "source": [
    "# General-purpose text embeddings on the IPU"
   ]
  },
  {
   "cell_type": "markdown",
   "id": "781dcd25-64d4-4380-b401-3478d41074a7",
   "metadata": {},
   "source": [
    "This notebook describes how to use supported embeddings models to generate SOTA text embeddings on the IPU. You can use the:\n",
    "* [E5 model](https://arxiv.org/pdf/2212.03533.pdf) (Emb**E**ddings from bidir**E**ctional **E**ncoder r**E**presentations) to generate text embeddings on the IPU.\n",
    "* [Sentence Transformers MPNet Base V2](https://huggingface.co/sentence-transformers/all-mpnet-base-v2) An embeddings model based on the MPNet base model.\n",
    "* [Sentence-T5](https://arxiv.org/abs/2108.08877) runs on a pretrained T5 model encoder."
   ]
  },
  {
   "cell_type": "markdown",
   "id": "6d591cc4-38ca-47ae-a52f-165b04deb0a8",
   "metadata": {},
   "source": [
    "First, install the requirements for running this notebook:"
   ]
  },
  {
   "cell_type": "code",
   "execution_count": 1,
   "id": "97cef646-7eb2-4c12-9b40-fc82f3116d19",
   "metadata": {},
   "outputs": [],
   "source": [
    "%load_ext autoreload\n",
    "%autoreload 2"
   ]
  },
  {
   "cell_type": "code",
   "execution_count": null,
   "id": "791a8017-830e-45fd-9a14-76661bd61424",
   "metadata": {
    "scrolled": true
   },
   "outputs": [],
   "source": [
    "! pip install sentence-transformers\n",
    "! pip install --find-links https://download.pytorch.org/whl/cpu/torch_stable.html torch==1.13.1+cpu"
   ]
  },
  {
   "cell_type": "markdown",
   "id": "a2caff0d-c9dd-426b-a62f-08e53ff1c201",
   "metadata": {},
   "source": [
    "Import the required modules for the notebook:"
   ]
  },
  {
   "cell_type": "code",
   "execution_count": 2,
   "id": "6eb86be2-6ba9-48dc-a948-6009dcf617e0",
   "metadata": {},
   "outputs": [],
   "source": [
    "import os\n",
    "import torch\n",
    "import poptorch\n",
    "import numpy as np\n",
    "from tqdm.notebook import tqdm\n",
    "import logging"
   ]
  },
  {
   "cell_type": "markdown",
   "id": "885c52bb-63fc-4c3d-9ee0-40ae4a1c02f5",
   "metadata": {},
   "source": [
    "We need to instantiate some global parameters that will be used to run the models.\n",
    "\n",
    "The **micro batch size** (number of batches to process in parallel) is set to a smaller value of 2 due to its greater effect on device memory. \n",
    "\n",
    "We use on-IPU loops (**device iterations**) which iterate over a number of batches sequentially (where the iteration takes place on-device in one dataloader call), to extend the batch size for more throughput benefit (this is more efficient than loading smaller batches on the host a large number of times). \n",
    "\n",
    "Data parallelism is controlled by the **replication factor**, i.e. how many devices the batch sizes are replicated over. This value is set to `None` by default as it will be automatically determined by the `pod_type` of the machine being used. By default, the model itself requires 1 IPU to run, and if running on a IPU POD4 (4 IPU) machine, the replication factor is set to 4. Similarly, if running on an IPU POD16, it is set to 16. This can be overidden with a different value if needed, i.e., if `replication_factor=N` the model will be replicated over `N` IPUs as long as `N * n_ipu (number of IPUs a single instance of the model uses) <= total available IPUs`.\n",
    "\n",
    "The total effective batch size for inference is calculated by:\n",
    "```\n",
    "effective_batch_size = replication_factor * device_iterations * micro_batch_size\n",
    "```\n",
    "\n",
    "The model itself, through model pipelining, can also be run over 4 IPUs (by setting `model_ipu` to 4), in which case the replication factor will be adjusted accordingly. The reason we might want to spread the model over more IPUs is to reduce the memory consumption of the model over a single machine (e.g., with 4 IPUs, we compute far fewer layers per IPU, while with 1 IPU, all model layers are on a single IPU) allowing for higher batch sizes to be used. This is particularly beneficial on an IPU POD16 machine, as the 4-IPU pipelined version of the model can be run at a higher effective batch size (with higher micro batch size) and achieve even higher overall batched throughput."
   ]
  },
  {
   "cell_type": "code",
   "execution_count": 3,
   "id": "e503c3df-45ce-4613-ac7c-3b38a48ed40e",
   "metadata": {},
   "outputs": [],
   "source": [
    "logger = logging.getLogger(\"\")\n",
    "\n",
    "n_ipu = os.getenv(\"NUM_AVAILABLE_IPU\", 4)\n",
    "model_ipu = 1\n",
    "micro_batch_size = 2\n",
    "device_iterations = 256\n",
    "replication_factor = None\n",
    "\n",
    "random_seed = 42"
   ]
  },
  {
   "cell_type": "markdown",
   "id": "a4f21a35-67c8-41b9-a8bd-eaa35f04c054",
   "metadata": {},
   "source": [
    "To run embeddings models, we will set up a generic IPU embeddings class which loads the pretrained model onto the IPU and runs the embedding pooling and normalisation stages in the forward pass along with the model."
   ]
  },
  {
   "cell_type": "code",
   "execution_count": 4,
   "id": "03ebea39-a859-4737-8687-b10ef5916046",
   "metadata": {},
   "outputs": [],
   "source": [
    "import torch\n",
    "import logging\n",
    "from typing import Optional, List\n",
    "\n",
    "from transformers import AutoModel\n",
    "from optimum.graphcore.modeling_utils import to_pipelined\n",
    "from optimum.graphcore import IPUConfig\n",
    "\n",
    "logger = logging.getLogger(\"e5\")\n",
    "\n",
    "class IPUEmbeddingsModel(torch.nn.Module):\n",
    "    def __init__(self, model, ipu_config: IPUConfig, fp16=True):\n",
    "        super().__init__()\n",
    "        self.encoder = to_pipelined(model, ipu_config)\n",
    "        self.encoder = self.encoder.parallelize()\n",
    "        if fp16: self.encoder = self.encoder.half()\n",
    "    \n",
    "    def pool(self, last_hidden_states: torch.Tensor, attention_mask: torch.Tensor, pool_type: str) -> torch.Tensor:\n",
    "             \n",
    "        last_hidden = last_hidden_states.masked_fill(~attention_mask[..., None].bool(), 0.0)\n",
    "    \n",
    "        if pool_type == \"avg\":\n",
    "            emb = last_hidden.sum(dim=1) / attention_mask.sum(dim=1)[..., None]\n",
    "        elif pool_type == \"cls\":\n",
    "            emb = last_hidden[:, 0]\n",
    "        else:\n",
    "            raise ValueError(f\"pool_type {pool_type} not supported\")\n",
    "\n",
    "        return emb\n",
    "    \n",
    "    def forward(self, pool_type: str ='avg', **kwargs) -> torch.Tensor:\n",
    "        outputs = self.encoder(**kwargs)\n",
    "        \n",
    "        embeds = self.pool(outputs.last_hidden_state, kwargs[\"attention_mask\"], pool_type=pool_type)\n",
    "        embeds = torch.nn.functional.normalize(embeds, p=2, dim=-1)\n",
    "\n",
    "        return embeds"
   ]
  },
  {
   "cell_type": "markdown",
   "id": "3e031ce8-5f31-4ba5-8cc6-dce38963b08f",
   "metadata": {},
   "source": [
    "Before setting up and running each of the models, lets create a simple `infer` function which handles loading the batches from a dataloader and generating the embeddings from any model:"
   ]
  },
  {
   "cell_type": "code",
   "execution_count": 5,
   "id": "1891ce31-b349-4393-93dc-588f09a1a218",
   "metadata": {},
   "outputs": [],
   "source": [
    "import time\n",
    "\n",
    "def infer(model, dataloader):\n",
    "    encoded_embeds = []\n",
    "    with torch.no_grad():\n",
    "        for batch_dict in tqdm(dataloader, desc='encoding'):\n",
    "            lat = time.time()\n",
    "            outputs = model(**batch_dict)\n",
    "            lat = time.time() - lat\n",
    "            \n",
    "            encoded_embeds.append(outputs)\n",
    "            print(f\"batch len: {len(batch_dict['input_ids'])} | batch latency: {lat}s | per_sample: {lat/len(batch_dict['input_ids'])}s | throughput: {len(batch_dict['input_ids'])/lat} samples/s\")\n",
    "    \n",
    "    return torch.cat(encoded_embeds, axis=0)"
   ]
  },
  {
   "cell_type": "markdown",
   "id": "c14b1389-0bec-4b79-9d8e-feb31b386a35",
   "metadata": {},
   "source": [
    "## Embeddings with E5-Large"
   ]
  },
  {
   "cell_type": "code",
   "execution_count": 42,
   "id": "375f2cab-7a73-4a86-896c-66d2598b40a5",
   "metadata": {},
   "outputs": [],
   "source": [
    "import modeling_bert, modeling_mpnet, modeling_t5 # delete this cell once in source\n",
    "# import optimum.graphcore # replace"
   ]
  },
  {
   "cell_type": "markdown",
   "id": "bbaf200e-2375-4d58-aa41-d64daf8017ad",
   "metadata": {},
   "source": [
    "First, use Transformers' `AutoConfig` to load the model config for the E5 large model. E5 uses a bidirectional encoder, essentially the encoder stage of a BERT model, to generate the trained embeddings. The config will define the architecture of the model, such as the number of encoder layers and size of the hidden dimension within the model.\n",
    "\n",
    "We also need to tokenize the dataset, for this we define a custom transform function which applies the pre-trained tokenization for each model to the dataset. We will call this function when loading the function, to avoid loading multiple tokenized datasets at the same time.\n",
    "\n",
    "We define some IPU specific configurations to get the most out of the model, the `get_ipu_config` function will set up the IPU config according to the model config, taking into consideration the defined number of IPUs for model parallelism, the number of IPUs available and batching configurations."
   ]
  },
  {
   "cell_type": "code",
   "execution_count": 9,
   "id": "81185f5b-6887-415f-b82f-2170fe22d75c",
   "metadata": {},
   "outputs": [],
   "source": [
    "from config import get_ipu_config\n",
    "from transformers import AutoConfig, AutoTokenizer, BatchEncoding"
   ]
  },
  {
   "cell_type": "code",
   "execution_count": 10,
   "id": "a6e140bc-d2e2-4da3-a53d-3532094554fe",
   "metadata": {},
   "outputs": [
    {
     "name": "stderr",
     "output_type": "stream",
     "text": [
      "/localdata/arsalanu/popsdk_venvs/3.2.1+1370/3.2.1+1370_poptorch/lib/python3.8/site-packages/optimum/graphcore/ipu_configuration.py:403: UserWarning: The \"enable_half_first_order_momentum\" parameter is deprecated\n",
      "  warnings.warn('The \"enable_half_first_order_momentum\" parameter is deprecated')\n"
     ]
    }
   ],
   "source": [
    "e5_model_name = 'intfloat/e5-large'\n",
    "e5_tokenizer = AutoTokenizer.from_pretrained(e5_model_name)\n",
    "e5_model_config = AutoConfig.from_pretrained(e5_model_name)\n",
    "e5_model = AutoModel.from_pretrained(e5_model_name, config=e5_model_config)\n",
    "\n",
    "def e5_transform_func(example) -> BatchEncoding:\n",
    "    return e5_tokenizer(\n",
    "        example['text'],\n",
    "        max_length=e5_model_config.max_position_embeddings,\n",
    "        padding=\"max_length\",\n",
    "        truncation=True\n",
    "    )\n",
    "\n",
    "e5_ipu_config = get_ipu_config(\n",
    "    e5_model_config, n_ipu, model_ipu, device_iterations, replication_factor, random_seed)"
   ]
  },
  {
   "cell_type": "markdown",
   "id": "302901d1-65c9-4634-bf09-d5aa20edddce",
   "metadata": {},
   "source": [
    "## Embeddings with All-MPNet"
   ]
  },
  {
   "cell_type": "markdown",
   "id": "3e64f65d-ab11-4c06-a999-049bdd1d80ae",
   "metadata": {},
   "source": [
    "For MPNet, we do the same for the pre-trained model."
   ]
  },
  {
   "cell_type": "code",
   "execution_count": 11,
   "id": "61d2754d-c2ec-48a0-a0bf-1021914237e1",
   "metadata": {},
   "outputs": [],
   "source": [
    "mpnet_model_name = 'sentence-transformers/all-mpnet-base-v2'\n",
    "mpnet_tokenizer = AutoTokenizer.from_pretrained(mpnet_model_name)\n",
    "mpnet_model_config = AutoConfig.from_pretrained(mpnet_model_name)\n",
    "mpnet_model = AutoModel.from_pretrained(mpnet_model_name, config=mpnet_model_config)\n",
    "\n",
    "def mpnet_transform_func(example) -> BatchEncoding:\n",
    "    return mpnet_tokenizer(\n",
    "        example['text'],\n",
    "        max_length=mpnet_model_config.max_position_embeddings,\n",
    "        padding=\"max_length\",\n",
    "        truncation=True\n",
    "    )\n",
    "    \n",
    "mpnet_ipu_config = get_ipu_config(\n",
    "    mpnet_model_config, n_ipu, model_ipu, device_iterations, replication_factor, random_seed)"
   ]
  },
  {
   "cell_type": "markdown",
   "id": "a48b9f43-c49a-41e4-b2c1-17b0307110fb",
   "metadata": {},
   "source": [
    "## Embeddings with Sentence-T5"
   ]
  },
  {
   "cell_type": "markdown",
   "id": "20c34ab0-f865-4052-b772-1234d66e74f2",
   "metadata": {},
   "source": [
    "Note that for T5, we need to use the `T5EncoderModel` instead of `AutoModel`. We must manually specify the encoder as T5 is an encoder-decoder model, and we don't want to load the decoder for embeddings generation. \n",
    "\n",
    "Transformers `AutoModel` supports a 1-to-1 mapping of architecture definitions to model types, and it will by default load the `T5Model` class. We can override this by directly importing and loading the pretrained model using `T5EncoderModel`."
   ]
  },
  {
   "cell_type": "code",
   "execution_count": 22,
   "id": "68a23a16-2eee-42b0-9ff3-4444591e61e7",
   "metadata": {},
   "outputs": [
    {
     "name": "stderr",
     "output_type": "stream",
     "text": [
      "`replicated_tensor_sharding` is not used when `replication_factor=1`\n"
     ]
    }
   ],
   "source": [
    "from transformers.models.t5.modeling_t5 import T5EncoderModel\n",
    "\n",
    "t5_model_name = 'sentence-transformers/sentence-t5-base'\n",
    "t5_tokenizer = AutoTokenizer.from_pretrained(t5_model_name)\n",
    "t5_model_config = AutoConfig.from_pretrained(t5_model_name)\n",
    "t5_model = T5EncoderModel.from_pretrained(t5_model_name, config=t5_model_config)\n",
    "\n",
    "def t5_transform_func(example) -> BatchEncoding:\n",
    "    return t5_tokenizer(\n",
    "        example['text'],\n",
    "        max_length=t5_model_config.n_positions,\n",
    "        padding=\"max_length\",\n",
    "        truncation=True\n",
    "    )\n",
    "\n",
    "t5_ipu_config = get_ipu_config(\n",
    "    t5_model_config, n_ipu, model_ipu, device_iterations, replication_factor, random_seed)"
   ]
  },
  {
   "cell_type": "markdown",
   "id": "7f66faa5-43eb-4e26-9347-f039baf63411",
   "metadata": {},
   "source": [
    "## Creating the embeddings model"
   ]
  },
  {
   "cell_type": "markdown",
   "id": "12b40f13-ccc2-423f-b2f3-b23867dae7d7",
   "metadata": {},
   "source": [
    "Then simply pass the model and IPU config to the `IPUEmbeddingsModel` class to initialise it. To run the model on the IPU, the IPU config needs to be first converted to an `IPUOptions` class and passed alongside the model to the `poptorch.inferenceModel` wrapper.\n",
    "\n",
    "We'll wrap this behaviour into a simple function so we can iteratively run all three models and initialise the `poptorch.Dataloader` to create an IPU-ready batched dataloader. We pass an arbitrary call to the model using the first batch to ensure we have compiled the model executable (or loaded the already compiled executable)."
   ]
  },
  {
   "cell_type": "code",
   "execution_count": 16,
   "id": "ca9d71a3-7b02-4a0e-8056-aa34f8777d3f",
   "metadata": {},
   "outputs": [],
   "source": [
    "from transformers import default_data_collator as data_collator\n",
    "\n",
    "def create_model(model, ipu_config, dataset):\n",
    "    model = IPUEmbeddingsModel(model, ipu_config)\n",
    "\n",
    "    ipu_options = ipu_config.to_options(for_inference=True)\n",
    "    model = poptorch.inferenceModel(model, ipu_options)\n",
    "\n",
    "    dataloader = poptorch.DataLoader(\n",
    "        ipu_options,\n",
    "        dataset['train'],\n",
    "        batch_size=micro_batch_size,\n",
    "        shuffle=False,\n",
    "        drop_last=True,\n",
    "        num_workers=2,\n",
    "        collate_fn=data_collator\n",
    "    )\n",
    "\n",
    "    model(**next(iter(dataloader)))\n",
    "    return model, dataloader"
   ]
  },
  {
   "cell_type": "markdown",
   "id": "14ebc664-eba6-4ee9-97e1-c75e024d5bf1",
   "metadata": {},
   "source": [
    "Lets load a dataset we'll use to try out the models. Using the Hugging Face `datasets` library we can load a pre-existing dataset from the Hugging Face Hub. In this case, lets use the `rotten_tomatoes` film review dataset. Later in the notebook, we will use this dataset to perform create a basic semantic search functionality."
   ]
  },
  {
   "cell_type": "code",
   "execution_count": 17,
   "id": "416c6965-a064-4808-b804-3cac3b8b0e9d",
   "metadata": {},
   "outputs": [
    {
     "name": "stderr",
     "output_type": "stream",
     "text": [
      "Found cached dataset rotten_tomatoes (/home/arsalanu/.cache/huggingface/datasets/rotten_tomatoes/default/1.0.0/40d411e45a6ce3484deed7cc15b82a53dad9a72aafd9f86f8f227134bec5ca46)\n"
     ]
    },
    {
     "data": {
      "application/vnd.jupyter.widget-view+json": {
       "model_id": "f5d7f50d1b9d411485da2dd59c5cfb26",
       "version_major": 2,
       "version_minor": 0
      },
      "text/plain": [
       "  0%|          | 0/3 [00:00<?, ?it/s]"
      ]
     },
     "metadata": {},
     "output_type": "display_data"
    }
   ],
   "source": [
    "from datasets import Dataset, load_dataset\n",
    "dataset = load_dataset(\"rotten_tomatoes\")"
   ]
  },
  {
   "cell_type": "markdown",
   "id": "7174614c-befa-4822-960d-8c8146f2c6e8",
   "metadata": {},
   "source": [
    "## Run the E5 model"
   ]
  },
  {
   "cell_type": "markdown",
   "id": "dacec9c0-1a24-4db7-938b-34fd28864a2c",
   "metadata": {},
   "source": [
    "The dataset first needs to be tokenized using the pre-trained tokenizer for each model, we can use the `map()` method to tokenize each of the inputs of the dataset using the model-specific transform function. Then we can convert the Hugging Face Arrow format dataset to a Pytorch ready dataset with `set_format` which converts the tokenized inputs into tensors.\n",
    "\n",
    "To run the model, Simply call the `infer` function we created earlier to generate embeddings for the full dataset. "
   ]
  },
  {
   "cell_type": "code",
   "execution_count": 19,
   "id": "9c9d4bb7-cfec-4251-8fe4-1d51c9873b0c",
   "metadata": {},
   "outputs": [
    {
     "name": "stderr",
     "output_type": "stream",
     "text": [
      "Loading cached processed dataset at /home/arsalanu/.cache/huggingface/datasets/rotten_tomatoes/default/1.0.0/40d411e45a6ce3484deed7cc15b82a53dad9a72aafd9f86f8f227134bec5ca46/cache-7112dabf7b658c8c.arrow\n",
      "Loading cached processed dataset at /home/arsalanu/.cache/huggingface/datasets/rotten_tomatoes/default/1.0.0/40d411e45a6ce3484deed7cc15b82a53dad9a72aafd9f86f8f227134bec5ca46/cache-acd391fc56701cfa.arrow\n",
      "Loading cached processed dataset at /home/arsalanu/.cache/huggingface/datasets/rotten_tomatoes/default/1.0.0/40d411e45a6ce3484deed7cc15b82a53dad9a72aafd9f86f8f227134bec5ca46/cache-5819b9c1eb01ab55.arrow\n"
     ]
    },
    {
     "name": "stdout",
     "output_type": "stream",
     "text": [
      "huggingface/tokenizers: The current process just got forked, after parallelism has already been used. Disabling parallelism to avoid deadlocks...\n",
      "To disable this warning, you can either:\n",
      "\t- Avoid using `tokenizers` before the fork if possible\n",
      "\t- Explicitly set the environment variable TOKENIZERS_PARALLELISM=(true | false)\n",
      "huggingface/tokenizers: The current process just got forked, after parallelism has already been used. Disabling parallelism to avoid deadlocks...\n",
      "To disable this warning, you can either:\n",
      "\t- Avoid using `tokenizers` before the fork if possible\n",
      "\t- Explicitly set the environment variable TOKENIZERS_PARALLELISM=(true | false)\n"
     ]
    },
    {
     "name": "stderr",
     "output_type": "stream",
     "text": [
      "Graph compilation: 100%|██████████████████████████████████████████████████████████████████████████████████████████████████████████████████████████████████████████████████████████| 100/100 [00:03<00:00]\n",
      "WARNING: The compile time engine option debug.branchRecordTile is set to \"5887\" when creating the Engine. (At compile-tile it was set to 1471)\n"
     ]
    },
    {
     "data": {
      "application/vnd.jupyter.widget-view+json": {
       "model_id": "93313d3ed0bd4a20afac345cac5cd1eb",
       "version_major": 2,
       "version_minor": 0
      },
      "text/plain": [
       "encoding:   0%|          | 0/4 [00:00<?, ?it/s]"
      ]
     },
     "metadata": {},
     "output_type": "display_data"
    },
    {
     "name": "stdout",
     "output_type": "stream",
     "text": [
      "batch len: 2048 | batch latency: 2.401418685913086s | per_sample: 0.001172567717730999s | throughput: 852.8292096724873 samples/s\n",
      "batch len: 2048 | batch latency: 2.3685898780822754s | per_sample: 0.001156538026407361s | throughput: 864.6494772907497 samples/s\n",
      "batch len: 2048 | batch latency: 2.368685245513916s | per_sample: 0.0011565845925360918s | throughput: 864.61466498292 samples/s\n",
      "batch len: 2048 | batch latency: 2.3684709072113037s | per_sample: 0.0011564799351617694s | throughput: 864.6929095748809 samples/s\n",
      "huggingface/tokenizers: The current process just got forked, after parallelism has already been used. Disabling parallelism to avoid deadlocks...\n",
      "To disable this warning, you can either:\n",
      "\t- Avoid using `tokenizers` before the fork if possible\n",
      "\t- Explicitly set the environment variable TOKENIZERS_PARALLELISM=(true | false)\n"
     ]
    }
   ],
   "source": [
    "tokenized_dataset = dataset.map(e5_transform_func, batched=True)\n",
    "tokenized_dataset.set_format(type=\"torch\", columns=[\"input_ids\", \"attention_mask\"])\n",
    "\n",
    "model, dataloader = create_model(e5_model, e5_ipu_config, tokenized_dataset)\n",
    "\n",
    "e5_data_embeddings = infer(model, dataloader)\n",
    "\n",
    "model.detachFromDevice()"
   ]
  },
  {
   "cell_type": "markdown",
   "id": "287cc882-a5f9-4506-badb-341563805c52",
   "metadata": {},
   "source": [
    "## Run the All-MPNet model"
   ]
  },
  {
   "cell_type": "code",
   "execution_count": 20,
   "id": "71988253-9683-426c-9808-a88d5b13ed17",
   "metadata": {},
   "outputs": [
    {
     "data": {
      "application/vnd.jupyter.widget-view+json": {
       "model_id": "",
       "version_major": 2,
       "version_minor": 0
      },
      "text/plain": [
       "Map:   0%|          | 0/8530 [00:00<?, ? examples/s]"
      ]
     },
     "metadata": {},
     "output_type": "display_data"
    },
    {
     "data": {
      "application/vnd.jupyter.widget-view+json": {
       "model_id": "",
       "version_major": 2,
       "version_minor": 0
      },
      "text/plain": [
       "Map:   0%|          | 0/1066 [00:00<?, ? examples/s]"
      ]
     },
     "metadata": {},
     "output_type": "display_data"
    },
    {
     "data": {
      "application/vnd.jupyter.widget-view+json": {
       "model_id": "",
       "version_major": 2,
       "version_minor": 0
      },
      "text/plain": [
       "Map:   0%|          | 0/1066 [00:00<?, ? examples/s]"
      ]
     },
     "metadata": {},
     "output_type": "display_data"
    },
    {
     "name": "stdout",
     "output_type": "stream",
     "text": [
      "huggingface/tokenizers: The current process just got forked, after parallelism has already been used. Disabling parallelism to avoid deadlocks...\n",
      "To disable this warning, you can either:\n",
      "\t- Avoid using `tokenizers` before the fork if possible\n",
      "\t- Explicitly set the environment variable TOKENIZERS_PARALLELISM=(true | false)\n",
      "huggingface/tokenizers: The current process just got forked, after parallelism has already been used. Disabling parallelism to avoid deadlocks...\n",
      "To disable this warning, you can either:\n",
      "\t- Avoid using `tokenizers` before the fork if possible\n",
      "\t- Explicitly set the environment variable TOKENIZERS_PARALLELISM=(true | false)\n"
     ]
    },
    {
     "name": "stderr",
     "output_type": "stream",
     "text": [
      "Graph compilation: 100%|██████████████████████████████████████████████████████████████████████████████████████████████████████████████████████████████████████████████████████████| 100/100 [03:30<00:00]\n",
      "WARNING: The compile time engine option debug.branchRecordTile is set to \"5887\" when creating the Engine. (At compile-tile it was set to 1471)\n"
     ]
    },
    {
     "data": {
      "application/vnd.jupyter.widget-view+json": {
       "model_id": "94916b6a4f5a4604a0b41698f860f5e1",
       "version_major": 2,
       "version_minor": 0
      },
      "text/plain": [
       "encoding:   0%|          | 0/4 [00:00<?, ?it/s]"
      ]
     },
     "metadata": {},
     "output_type": "display_data"
    },
    {
     "name": "stdout",
     "output_type": "stream",
     "text": [
      "batch len: 2048 | batch latency: 1.6170854568481445s | per_sample: 0.0007895925082266331s | throughput: 1266.4760488241293 samples/s\n",
      "batch len: 2048 | batch latency: 1.6077561378479004s | per_sample: 0.0007850371766835451s | throughput: 1273.8250234524985 samples/s\n",
      "batch len: 2048 | batch latency: 1.6077404022216797s | per_sample: 0.0007850294932723045s | throughput: 1273.8374909095655 samples/s\n",
      "batch len: 2048 | batch latency: 1.6073262691497803s | per_sample: 0.0007848272798582911s | throughput: 1274.1656994651876 samples/s\n",
      "huggingface/tokenizers: The current process just got forked, after parallelism has already been used. Disabling parallelism to avoid deadlocks...\n"
     ]
    }
   ],
   "source": [
    "tokenized_dataset = dataset.map(mpnet_transform_func, batched=True)\n",
    "tokenized_dataset.set_format(type=\"torch\", columns=[\"input_ids\", \"attention_mask\"])\n",
    "\n",
    "model, dataloader = create_model(mpnet_model, mpnet_ipu_config, tokenized_dataset)\n",
    "\n",
    "mpnet_data_embeddings = infer(model, dataloader)\n",
    "\n",
    "model.detachFromDevice()"
   ]
  },
  {
   "cell_type": "markdown",
   "id": "f6fee156-4846-4acf-82f8-b443ef149319",
   "metadata": {},
   "source": [
    "## Run the Sentence-T5 model"
   ]
  },
  {
   "cell_type": "code",
   "execution_count": 26,
   "id": "1f4eff08-cd23-4ec8-aa91-9406c0ffcbcf",
   "metadata": {},
   "outputs": [
    {
     "name": "stderr",
     "output_type": "stream",
     "text": [
      "Loading cached processed dataset at /home/arsalanu/.cache/huggingface/datasets/rotten_tomatoes/default/1.0.0/40d411e45a6ce3484deed7cc15b82a53dad9a72aafd9f86f8f227134bec5ca46/cache-caf138e417debee9.arrow\n",
      "Loading cached processed dataset at /home/arsalanu/.cache/huggingface/datasets/rotten_tomatoes/default/1.0.0/40d411e45a6ce3484deed7cc15b82a53dad9a72aafd9f86f8f227134bec5ca46/cache-307125742b434b14.arrow\n",
      "Loading cached processed dataset at /home/arsalanu/.cache/huggingface/datasets/rotten_tomatoes/default/1.0.0/40d411e45a6ce3484deed7cc15b82a53dad9a72aafd9f86f8f227134bec5ca46/cache-97055b378d319084.arrow\n"
     ]
    },
    {
     "name": "stdout",
     "output_type": "stream",
     "text": [
      "huggingface/tokenizers: The current process just got forked, after parallelism has already been used. Disabling parallelism to avoid deadlocks...\n",
      "To disable this warning, you can either:\n",
      "\t- Avoid using `tokenizers` before the fork if possible\n",
      "\t- Explicitly set the environment variable TOKENIZERS_PARALLELISM=(true | false)\n",
      "huggingface/tokenizers: The current process just got forked, after parallelism has already been used. Disabling parallelism to avoid deadlocks...\n",
      "To disable this warning, you can either:\n",
      "\t- Avoid using `tokenizers` before the fork if possible\n",
      "\t- Explicitly set the environment variable TOKENIZERS_PARALLELISM=(true | false)\n"
     ]
    },
    {
     "name": "stderr",
     "output_type": "stream",
     "text": [
      "Graph compilation: 100%|██████████████████████████████████████████████████████████████████████████████████████████████████████████████████████████████████████████████████████████| 100/100 [01:14<00:00]\n",
      "WARNING: The compile time engine option debug.branchRecordTile is set to \"5887\" when creating the Engine. (At compile-tile it was set to 1471)\n"
     ]
    },
    {
     "data": {
      "application/vnd.jupyter.widget-view+json": {
       "model_id": "d593a31958f04ae79a60bc31a906abd2",
       "version_major": 2,
       "version_minor": 0
      },
      "text/plain": [
       "encoding:   0%|          | 0/4 [00:00<?, ?it/s]"
      ]
     },
     "metadata": {},
     "output_type": "display_data"
    },
    {
     "name": "stdout",
     "output_type": "stream",
     "text": [
      "batch len: 2048 | batch latency: 1.1848907470703125s | per_sample: 0.000578559935092926s | throughput: 1728.4293974476195 samples/s\n",
      "batch len: 2048 | batch latency: 1.1810739040374756s | per_sample: 0.0005766962422057986s | throughput: 1734.015113701993 samples/s\n",
      "batch len: 2048 | batch latency: 1.1660363674163818s | per_sample: 0.0005693536950275302s | throughput: 1756.3774657713368 samples/s\n",
      "batch len: 2048 | batch latency: 1.1653735637664795s | per_sample: 0.0005690300604328513s | throughput: 1757.376401589957 samples/s\n"
     ]
    }
   ],
   "source": [
    "tokenized_dataset = dataset.map(t5_transform_func, batched=True)\n",
    "tokenized_dataset.set_format(type=\"torch\", columns=[\"input_ids\", \"attention_mask\"])\n",
    "\n",
    "model, dataloader = create_model(t5_model, t5_ipu_config, tokenized_dataset)\n",
    "\n",
    "t5_data_embeddings = infer(model, dataloader)\n",
    "\n",
    "model.detachFromDevice()"
   ]
  },
  {
   "cell_type": "markdown",
   "id": "353baa3c-39ce-4e6f-9500-d3cc3831c608",
   "metadata": {},
   "source": [
    "The embeddings for a single sequence represent low-dimensional numerical representations of the word-level and sentence-level context for each token. These pre-trained embeddings can be used in applications like embedding retrieval for recommender systems, or semantic search for query-matching using cosine-similarity. Both of these use cases take advantage of the generated embeddings space, by performing a relative comparison of the user input sequence embeddings using some proximity metric.\n",
    "\n",
    "We'll use the open source `sentence_transformers` library which provides utilities for embeddings tasks to perform semantic search on a user query to retrieve the most similar sequences from the dataset to the query. This is a helpful utility for making, for example, more responsive FAQs."
   ]
  },
  {
   "cell_type": "markdown",
   "id": "4cd0341f-1ddf-4ddd-a224-663ca6c5d290",
   "metadata": {},
   "source": [
    "## Semantic search with generated embeddings"
   ]
  },
  {
   "cell_type": "markdown",
   "id": "10e889bd-47b4-4fc6-805f-deffe287b717",
   "metadata": {},
   "source": [
    "Using the `rotten_tomatoes` dataset, lets create a simple similarity search engine using `sentence_transformers` semantic search function, which uses cosine similarity to retrieve close-proximity sentences from a given set of embeddings to a given query. We have already generated embeddings for the dataset, so the next step is to do the same with a given query and perform the search.\n",
    "\n",
    "First, to process the query, we need to tokenize it and convert it to a single-batch input for the model. This has been wrapped into a simple function which tokenizes and prepares a dictionary of model inputs (`input_ids`, `attention_mask`, etc.,) to which we just need to pass a string."
   ]
  },
  {
   "cell_type": "code",
   "execution_count": 35,
   "id": "3efe05fe-8e30-4d17-ade7-e92df76fd6ef",
   "metadata": {
    "scrolled": true
   },
   "outputs": [],
   "source": [
    "def prepare_query(query: str):\n",
    "    t_query = mpnet_tokenizer(\n",
    "            query,\n",
    "            max_length=mpnet_model_config.max_position_embeddings,\n",
    "            padding=\"max_length\",\n",
    "            truncation=True\n",
    "        )\n",
    "\n",
    "    return {k: torch.as_tensor([t_query[k]]) for k in t_query}"
   ]
  },
  {
   "cell_type": "markdown",
   "id": "001da157-186d-484e-abd8-b3373063deba",
   "metadata": {},
   "source": [
    "Next, to perform inference with a single input (i.e., effective batch size of 1) we re-instantiate the model (for this example, lets use the All-MPNet model) by setting all device batching, replication and micro batch-size to 1 and re-compile the model. The change in batch size necessitates a recompilation, since the input shape to the model has been changed. We will follow the steps to initiate the model outlined earlier in the notebook, with the only change being setting the `get_ipu_config` function to have all batching turned off."
   ]
  },
  {
   "cell_type": "code",
   "execution_count": 36,
   "id": "a81edc13-236e-4577-bbf4-01904cc09777",
   "metadata": {},
   "outputs": [
    {
     "name": "stderr",
     "output_type": "stream",
     "text": [
      "Graph compilation: 100%|██████████████████████████████████████████████████████████████████████████████████████████████████████████████████████████████████████████████████████████| 100/100 [01:53<00:00]\n"
     ]
    },
    {
     "data": {
      "text/plain": [
       "tensor([[-2.7069e-02,  3.1342e-02, -2.2141e-02, -5.3741e-02,  7.3280e-03,\n",
       "          5.1941e-02,  3.7842e-02, -2.4475e-02, -1.6937e-02,  2.7027e-03,\n",
       "          7.0435e-02,  7.4463e-02,  3.8635e-02, -4.4067e-02,  2.1652e-02,\n",
       "          7.5439e-02, -6.2904e-03,  2.0996e-02, -5.2063e-02, -5.7602e-03,\n",
       "         -4.4647e-02, -2.0355e-02,  5.6152e-02, -3.8605e-03, -3.6560e-02,\n",
       "         -3.6102e-02,  1.8204e-02, -2.0172e-02,  6.9351e-03,  2.7908e-02,\n",
       "         -2.9793e-03,  1.1169e-02,  6.1455e-03, -3.3112e-02,  1.3113e-06,\n",
       "          7.3547e-03,  7.8247e-02,  3.4882e-02, -4.5380e-02, -2.1057e-03,\n",
       "         -7.1869e-03,  6.4575e-02,  2.5711e-02,  6.8115e-02,  1.2619e-02,\n",
       "         -5.2929e-04, -4.1718e-02, -6.0883e-02, -1.8021e-02,  5.1165e-04,\n",
       "          1.2749e-02, -6.2042e-02, -2.5158e-03,  7.4921e-03,  1.2070e-02,\n",
       "         -4.1870e-02,  1.0063e-02, -3.4428e-03, -1.6159e-02,  4.7241e-02,\n",
       "          4.4312e-02,  6.0944e-02,  9.2850e-03, -3.3665e-03, -2.1423e-02,\n",
       "         -2.3529e-02,  3.4790e-02, -1.8234e-02, -2.5702e-04, -3.2410e-02,\n",
       "         -1.6129e-02, -2.6413e-02, -1.0023e-03,  2.6077e-02, -3.0624e-02,\n",
       "         -1.0785e-01,  2.9358e-02,  1.5266e-02,  9.8801e-03, -2.1057e-02,\n",
       "          1.1688e-02, -2.6840e-02, -2.3834e-02, -1.3580e-03,  4.4556e-02,\n",
       "          1.0078e-02, -2.7405e-02,  3.5267e-03,  7.4501e-03,  8.9600e-02,\n",
       "          4.4678e-02, -1.5839e-02, -4.6997e-02, -5.8136e-02, -1.4969e-02,\n",
       "         -2.2926e-03, -2.6932e-03, -1.6327e-02,  3.0289e-02, -6.9702e-02,\n",
       "         -2.7832e-02,  1.8738e-02,  3.4454e-02,  3.3783e-02,  7.5569e-03,\n",
       "         -1.3374e-02,  7.6904e-02, -4.3121e-02, -3.0518e-03,  2.9739e-02,\n",
       "         -6.7444e-02, -1.5419e-02, -3.0380e-02,  3.5339e-02,  4.9774e-02,\n",
       "          7.1899e-02, -4.7333e-02, -1.7059e-02,  5.3864e-02,  3.8818e-02,\n",
       "         -2.1286e-03, -3.5400e-02, -2.9739e-02,  4.7729e-02,  7.4097e-02,\n",
       "         -4.5410e-02, -1.4816e-02, -1.4046e-02, -1.2619e-02, -9.8083e-02,\n",
       "         -1.0556e-04, -1.8051e-02, -3.4912e-02,  4.8187e-02,  1.5419e-02,\n",
       "         -2.1484e-02, -1.9409e-02, -5.6671e-02, -1.7929e-02, -5.7281e-02,\n",
       "          5.6061e-02, -3.3661e-02, -6.9824e-02, -7.1655e-02, -3.3875e-02,\n",
       "          1.6037e-02,  4.2610e-03,  3.1281e-02, -2.4261e-03, -2.0645e-02,\n",
       "         -2.3098e-03,  5.1971e-02,  9.7168e-02, -3.2640e-04,  1.7059e-02,\n",
       "          2.5909e-02,  9.0942e-02,  4.8706e-02, -4.0092e-03,  3.5725e-03,\n",
       "          3.2013e-02, -1.9102e-03,  2.0309e-02,  3.8128e-03, -2.8198e-02,\n",
       "          1.2428e-02, -4.0016e-03,  2.7130e-02,  3.4523e-03,  1.8234e-02,\n",
       "         -1.9501e-02, -5.3284e-02,  2.6779e-03,  8.5876e-02, -2.2202e-02,\n",
       "         -3.0346e-03,  5.2063e-02,  1.4084e-02,  4.4495e-02,  7.9422e-03,\n",
       "         -4.5990e-02,  1.9547e-02, -2.9007e-02,  8.3542e-03, -3.6133e-02,\n",
       "         -2.0645e-02, -1.3733e-02, -1.0246e-02, -1.2947e-02, -3.7994e-02,\n",
       "          7.5722e-04, -5.7125e-04, -2.5787e-02,  1.7075e-02,  1.6556e-02,\n",
       "         -4.3182e-03, -1.6251e-02, -2.9602e-03, -8.2703e-03, -5.1453e-02,\n",
       "         -4.6082e-03, -2.0767e-02, -1.0017e-02, -1.0681e-03, -1.3863e-02,\n",
       "          4.0588e-02,  6.3354e-02,  3.9337e-02,  2.4689e-02, -7.1960e-02,\n",
       "          1.2527e-02, -1.5991e-02,  7.3608e-02,  3.7598e-02,  2.1439e-03,\n",
       "          3.1021e-02, -1.2962e-02,  2.0462e-02,  2.0370e-02, -3.4424e-02,\n",
       "         -3.1052e-02,  1.4587e-02,  1.7075e-02,  5.0568e-02, -1.0498e-02,\n",
       "         -1.1975e-01,  1.6220e-02,  8.3618e-03, -1.1559e-02, -3.4485e-02,\n",
       "         -5.4993e-02, -2.2202e-02,  2.4323e-02,  1.1284e-02, -2.1729e-02,\n",
       "         -2.8595e-02, -9.4757e-03, -6.3904e-02, -4.3060e-02, -4.8950e-02,\n",
       "         -5.8777e-02, -4.5532e-02, -4.0161e-02,  4.2206e-02,  1.0735e-02,\n",
       "          5.4840e-02,  7.3624e-03,  2.3621e-02,  3.1342e-02, -2.0279e-02,\n",
       "          5.7945e-03, -4.8256e-03, -1.0078e-02, -7.8812e-03,  4.3106e-03,\n",
       "          4.3854e-02,  4.5471e-02,  5.3284e-02, -2.2621e-03, -4.4525e-02,\n",
       "         -5.5328e-02,  1.0147e-02, -8.3237e-03,  1.4465e-02,  5.2795e-02,\n",
       "          8.0444e-02, -1.0297e-01, -4.3243e-02,  3.1494e-02, -2.1317e-02,\n",
       "         -3.0212e-03, -7.2060e-03,  2.2629e-02,  8.2474e-03, -3.5980e-02,\n",
       "          2.1225e-02,  1.1131e-02,  2.6443e-02,  2.1057e-02, -2.6108e-02,\n",
       "         -3.0777e-02, -2.3285e-02,  9.4452e-03, -4.5959e-02,  5.9082e-02,\n",
       "          4.1046e-02,  3.9215e-02,  1.6281e-02, -6.6833e-02,  2.6230e-02,\n",
       "          4.4312e-02,  1.0071e-02,  3.2562e-02,  6.0730e-03,  3.5339e-02,\n",
       "          2.7618e-02,  2.8885e-02,  7.5722e-03, -2.1469e-02, -4.6326e-02,\n",
       "          1.0468e-02,  9.7809e-03, -5.5450e-02, -4.1107e-02,  3.4363e-02,\n",
       "         -6.0303e-02,  3.7720e-02, -4.0131e-02, -4.3732e-02,  3.3783e-02,\n",
       "          4.7180e-02, -7.3624e-03, -1.1925e-02, -4.8141e-03, -4.0092e-03,\n",
       "         -6.9458e-02,  3.5553e-02, -2.7908e-02, -3.4637e-02, -3.9734e-02,\n",
       "          4.5227e-02, -5.6091e-02,  2.7725e-02,  2.1100e-04, -1.1765e-02,\n",
       "          2.5284e-02,  4.9377e-02,  8.1100e-03,  2.5986e-02,  3.2635e-03,\n",
       "         -4.4373e-02, -2.4521e-02, -3.0594e-02,  5.1117e-02,  4.1962e-02,\n",
       "          1.3779e-02,  1.0700e-03,  2.1790e-02, -1.2207e-02, -3.6507e-03,\n",
       "          2.4796e-02, -4.0955e-02, -3.7292e-02,  1.2711e-02, -2.9617e-02,\n",
       "         -3.6377e-02,  5.6763e-02,  4.4556e-03,  7.6637e-03, -2.9251e-02,\n",
       "          6.0333e-02, -2.7985e-02,  1.9547e-02, -5.0690e-02, -2.6382e-02,\n",
       "         -4.5258e-02,  6.5374e-04, -3.0655e-02, -2.8961e-02,  5.4474e-02,\n",
       "          2.3849e-02, -1.7395e-02,  7.3975e-02,  2.0920e-02, -4.0222e-02,\n",
       "         -4.3457e-02,  2.4155e-02,  5.1208e-02, -3.5736e-02,  3.5126e-02,\n",
       "          8.9340e-03, -1.0857e-02, -5.2460e-02, -4.5044e-02, -1.0262e-02,\n",
       "          1.9730e-02,  1.2299e-02,  5.8624e-02,  3.8208e-02, -1.4740e-02,\n",
       "          1.2886e-02, -2.2324e-02, -2.3178e-02,  2.9236e-02,  3.6194e-02,\n",
       "         -1.9974e-02,  5.6213e-02,  1.2978e-02,  1.0490e-02,  1.6479e-02,\n",
       "         -2.5436e-02,  5.8380e-02, -4.8157e-02, -6.0501e-03, -2.1667e-02,\n",
       "         -2.9541e-02, -5.5176e-02, -6.3858e-03,  4.5715e-02,  4.2267e-02,\n",
       "         -4.0512e-03,  2.0142e-02,  1.9287e-02,  4.9500e-02,  1.1551e-02,\n",
       "          1.0002e-02,  4.8309e-02,  2.8396e-04,  1.5190e-02, -1.4515e-03,\n",
       "          3.9246e-02, -5.3864e-02,  2.6230e-02, -4.1107e-02,  5.0934e-02,\n",
       "          4.0497e-02, -1.6800e-02, -7.9041e-03, -4.5715e-02,  1.2779e-02,\n",
       "          1.4954e-02,  2.2980e-02, -2.9449e-02,  1.4679e-02, -4.3549e-02,\n",
       "          5.1765e-03,  9.3231e-03, -1.6678e-02, -4.6234e-02, -4.3182e-02,\n",
       "         -8.1482e-03, -2.6764e-02, -1.1467e-02, -1.9274e-03, -9.4360e-02,\n",
       "         -2.6398e-02, -4.6722e-02, -5.8167e-02,  1.5038e-02,  4.7699e-02,\n",
       "          1.9547e-02, -2.4891e-03,  5.0323e-02, -4.7699e-02, -7.9163e-02,\n",
       "          1.8206e-03,  4.6722e-02, -4.4525e-02,  1.5867e-04,  5.9631e-02,\n",
       "          3.2330e-03, -9.0837e-04, -9.4910e-03,  1.6769e-02,  2.5925e-02,\n",
       "          2.8610e-03,  1.1334e-01, -7.4707e-02, -1.5038e-02, -3.8605e-03,\n",
       "         -1.5472e-02,  6.3095e-03,  4.2847e-02,  5.8823e-03, -1.2802e-02,\n",
       "          2.8687e-02, -1.4351e-02,  8.4915e-03,  6.3232e-02,  1.9318e-02,\n",
       "         -5.4108e-02,  4.9286e-02, -1.9318e-02, -1.5015e-02, -2.2568e-02,\n",
       "          2.6581e-02, -3.4943e-02, -3.2562e-02, -7.2021e-02,  6.0883e-03,\n",
       "          3.9032e-02,  4.9133e-03,  1.2611e-02,  4.6234e-02,  1.4168e-02,\n",
       "         -1.1993e-02,  7.8796e-02, -1.1215e-02, -3.5095e-02,  2.1240e-02,\n",
       "         -3.1525e-02, -4.3304e-02, -1.3664e-02,  5.9814e-02, -3.5767e-02,\n",
       "          3.9093e-02,  1.8219e-02, -5.9326e-02, -1.9882e-02, -1.8740e-03,\n",
       "          3.5065e-02,  4.7943e-02, -3.6743e-02,  5.4871e-02,  5.8014e-02,\n",
       "         -6.2683e-02, -4.1618e-03, -3.7537e-02,  6.6757e-03,  5.5542e-02,\n",
       "          2.6642e-02, -5.5054e-02,  3.7842e-02,  2.7435e-02, -1.3962e-02,\n",
       "          1.7044e-02,  7.2670e-03,  3.1830e-02,  2.3346e-02,  2.4139e-02,\n",
       "         -9.8953e-03, -2.1042e-02,  1.5884e-02, -3.9886e-02, -2.0981e-02,\n",
       "         -7.7332e-02,  1.0101e-02,  2.7069e-02, -5.2826e-02,  5.9143e-02,\n",
       "         -5.1453e-02, -4.0436e-02,  1.5411e-02, -4.4479e-03, -1.2398e-02,\n",
       "         -1.1589e-02, -3.0441e-02, -4.5227e-02,  2.4323e-02,  1.8555e-02,\n",
       "          2.2980e-02,  6.0081e-03, -1.2802e-02,  5.1727e-02,  3.8818e-02,\n",
       "          3.1525e-02,  4.6844e-02,  1.0979e-02,  3.4973e-02, -3.0762e-02,\n",
       "          6.4926e-03,  6.5857e-02,  1.1353e-01,  9.9487e-03,  1.0626e-01,\n",
       "          0.0000e+00, -4.4617e-02,  2.1744e-02, -8.0185e-03,  2.8564e-02,\n",
       "          2.8442e-02, -2.6215e-02, -2.0493e-02,  1.8478e-02,  6.7505e-02,\n",
       "          4.7073e-03,  7.5684e-03, -2.7588e-02,  1.9180e-02, -1.0345e-01,\n",
       "          1.2286e-01,  2.7847e-02,  1.1887e-02, -4.0405e-02, -6.1615e-02,\n",
       "          1.0063e-02,  1.1276e-02,  2.4261e-02, -3.4576e-02,  3.6499e-02,\n",
       "          7.9441e-04,  4.0131e-03, -4.9973e-03, -1.3206e-02, -1.4725e-03,\n",
       "         -1.8356e-02,  2.2675e-02, -8.2855e-03, -2.7008e-02, -7.5340e-03,\n",
       "         -3.7384e-02,  7.5798e-03,  3.4690e-04, -2.5803e-02,  7.4234e-03,\n",
       "          4.3945e-03, -2.3010e-02, -8.4000e-03,  1.2054e-02, -2.2385e-02,\n",
       "          9.1600e-04,  4.7607e-03, -1.6556e-02,  3.1647e-02,  8.8959e-03,\n",
       "         -4.8553e-02, -3.3417e-02, -2.7299e-05,  4.3144e-03, -1.5160e-02,\n",
       "         -5.6885e-02, -8.1558e-03, -4.5204e-03, -1.9699e-02, -3.2806e-02,\n",
       "          1.9089e-02, -1.3809e-02,  3.7785e-03,  1.1246e-02, -6.4026e-02,\n",
       "          3.7460e-03, -2.5375e-02, -1.6678e-02, -4.0588e-02, -5.0812e-02,\n",
       "         -2.8931e-02,  4.8187e-02, -5.5969e-02,  2.1057e-02,  2.4399e-02,\n",
       "          4.9988e-02, -7.6538e-02, -5.0140e-02, -5.6427e-02,  5.2582e-02,\n",
       "         -8.8425e-03, -1.1536e-02, -1.3992e-02, -5.5504e-03, -8.8425e-03,\n",
       "         -4.9164e-02,  3.1525e-02, -3.4809e-03,  9.5367e-03, -1.5388e-02,\n",
       "          2.1225e-02,  3.6377e-02, -2.1484e-02,  4.1077e-02, -1.6953e-02,\n",
       "          5.2490e-03,  1.7944e-02, -2.0798e-02, -2.4292e-02,  2.9556e-02,\n",
       "          3.0716e-02, -3.1929e-03,  3.5919e-02,  6.6147e-03, -2.7435e-02,\n",
       "          3.8513e-02,  2.8259e-02,  6.5565e-06, -5.8289e-03, -3.4485e-02,\n",
       "         -4.6635e-04, -2.0004e-02, -1.1688e-02,  1.9699e-02, -3.1464e-02,\n",
       "         -1.1108e-02,  1.6800e-02, -1.7685e-02, -3.6499e-02, -2.0630e-02,\n",
       "         -1.3222e-02, -5.4260e-02,  4.4525e-02,  1.1401e-01,  6.2927e-02,\n",
       "         -5.0507e-02,  3.3752e-02,  1.9623e-02,  4.5929e-03,  4.9530e-02,\n",
       "         -6.7949e-04, -6.7749e-02,  4.7943e-02,  2.3842e-07, -1.0391e-02,\n",
       "          1.4969e-02, -4.5288e-02,  6.2683e-02, -2.7328e-02,  2.0432e-02,\n",
       "          5.2223e-03,  3.9764e-02, -1.8036e-02,  4.7913e-02, -4.5044e-02,\n",
       "         -1.6281e-02,  2.7176e-02, -4.3373e-03,  2.7496e-02, -1.9653e-02,\n",
       "          1.3054e-02,  5.0507e-02, -7.4310e-03, -2.0615e-02, -6.0333e-02,\n",
       "         -2.7435e-02, -1.6308e-03,  2.1912e-02, -4.0558e-02,  3.5706e-02,\n",
       "         -3.1494e-02,  5.0507e-02,  4.8065e-03,  4.9622e-02, -3.2440e-02,\n",
       "          4.0131e-02,  8.8501e-03,  7.0333e-04, -4.3488e-02, -7.0251e-02,\n",
       "          4.9866e-02,  3.3875e-02,  2.0660e-02,  3.7964e-02,  4.6570e-02,\n",
       "         -3.3447e-02, -3.7384e-02,  5.4993e-02, -1.8692e-02, -2.7298e-02,\n",
       "          3.0167e-02, -3.0594e-02,  2.9800e-02,  5.1994e-03, -1.1337e-02,\n",
       "          4.8920e-02,  3.8422e-02,  9.8953e-03,  1.9760e-02,  1.9745e-02,\n",
       "          1.1337e-02,  2.0462e-02,  4.4250e-03,  3.9612e-02, -3.3264e-02,\n",
       "         -6.2805e-02,  3.9001e-02, -1.4015e-02,  2.5742e-02, -5.1765e-03,\n",
       "         -1.8890e-02,  0.0000e+00,  2.1713e-02,  6.9160e-03,  1.5671e-02,\n",
       "          3.3593e-04, -5.0476e-02, -2.3621e-02, -6.3049e-02, -4.8218e-02,\n",
       "          4.3213e-02, -6.9275e-02, -6.0760e-02]], dtype=torch.float16)"
      ]
     },
     "execution_count": 36,
     "metadata": {},
     "output_type": "execute_result"
    }
   ],
   "source": [
    "mpnet_infer_ipu_config = get_ipu_config(\n",
    "    mpnet_model_config, n_ipu, model_ipu=1, device_iterations=1, replication_factor=1, random_seed=random_seed)\n",
    "\n",
    "model = IPUEmbeddingsModel(mpnet_model, mpnet_infer_ipu_config)\n",
    "model = poptorch.inferenceModel(model, mpnet_infer_ipu_config.to_options(for_inference=True))\n",
    "\n",
    "model(**prepare_query(\"Running once to compile\"))"
   ]
  },
  {
   "cell_type": "markdown",
   "id": "2f1a9655-f6c4-438b-845d-0bf9c954e8dd",
   "metadata": {},
   "source": [
    "Finally, we can use the model to embed a single query, and perform a semantic search across the full dataset embeddings to retrieve highly relevant reviews to the query."
   ]
  },
  {
   "cell_type": "code",
   "execution_count": 38,
   "id": "fccb8f74-3bc0-41a6-afc0-0d87d3cfd5c6",
   "metadata": {},
   "outputs": [
    {
     "name": "stdout",
     "output_type": "stream",
     "text": [
      "\n",
      " SEARCH QUERY: Strongly disliked this action movie\n",
      "\n",
      " Result (rank 1) | Score: 0.7619101405143738 | Text: it's a bad action movie because there's no rooting interest and the spectacle is grotesque and boring . \n",
      "\n",
      " Result (rank 2) | Score: 0.6812450289726257 | Text: i hate this movie \n",
      "\n",
      " Result (rank 3) | Score: 0.6624367237091064 | Text: features nonsensical and laughable plotting , wooden performances , ineptly directed action sequences and some of the worst dialogue in recent memory . \n",
      "\n",
      " Result (rank 4) | Score: 0.6615514755249023 | Text: 'this movie sucks . ' \n",
      "\n",
      " Result (rank 5) | Score: 0.6549775004386902 | Text: it is a comedy that's not very funny and an action movie that is not very thrilling ( and an uneasy alliance , at that ) . \n",
      "\n",
      " Result (rank 6) | Score: 0.6511269211769104 | Text: the worst film of the year . \n",
      "\n",
      " Result (rank 7) | Score: 0.6448710560798645 | Text: the acting is amateurish , the cinematography is atrocious , the direction is clumsy , the writing is insipid and the violence is at once luridly graphic and laughably unconvincing . \n",
      "\n",
      " Result (rank 8) | Score: 0.6421791911125183 | Text: it's another stale , kill-by-numbers flick , complete with blade-thin characters and terrible , pun-laden dialogue . \n",
      "\n",
      " Result (rank 9) | Score: 0.6316699981689453 | Text: doesn't deliver a great story , nor is the action as gripping as in past seagal films . \n",
      "\n",
      " Result (rank 10) | Score: 0.6297786235809326 | Text: despite the fact that this film wasn't as bad as i thought it was going to be , it's still not a good movie \n"
     ]
    }
   ],
   "source": [
    "from sentence_transformers.util import semantic_search\n",
    "\n",
    "query = \"Strongly disliked this action movie\"\n",
    "\n",
    "query_embeddings = model(**prepare_query(query))\n",
    "hits = semantic_search(query_embeddings.float(), mpnet_data_embeddings.float(), top_k=10)\n",
    "\n",
    "print(f\"\\n SEARCH QUERY: {query}\")\n",
    "for n, res in enumerate(hits[0]):\n",
    "    print(f\"\\n Result (rank {n+1}) | Score: {res['score']} | Text: {dataset['train']['text'][res['corpus_id']]} \")"
   ]
  }
 ],
 "metadata": {
  "kernelspec": {
   "display_name": "Python 3 (ipykernel)",
   "language": "python",
   "name": "python3"
  },
  "language_info": {
   "codemirror_mode": {
    "name": "ipython",
    "version": 3
   },
   "file_extension": ".py",
   "mimetype": "text/x-python",
   "name": "python",
   "nbconvert_exporter": "python",
   "pygments_lexer": "ipython3",
   "version": "3.8.10"
  }
 },
 "nbformat": 4,
 "nbformat_minor": 5
}
