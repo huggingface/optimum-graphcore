{
 "cells": [
  {
   "cell_type": "markdown",
   "id": "fb7a2f86",
   "metadata": {},
   "source": [
    "# Speech Transcription on IPUs using Whisper - Inference\n",
    "\n",
    "This notebook demonstrates speech transcription on the IPU using the [Whisper implementation in the Hugging Face Transformers library](https://huggingface.co/spaces/openai/whisper) alongside [Optimum Graphcore](https://github.com/huggingface/optimum-graphcore).\n",
    "\n",
    "Whisper is a versatile speech recognition model that can transcribe speech as well as perform multi-lingual translation and recognition tasks.\n",
    "It was trained on diverse datasets to give human-level speech recognition performance without the need for fine tuning. \n",
    "\n",
    "[🤗 Optimum Graphcore](https://github.com/huggingface/optimum-graphcore) is the interface between the [🤗 Transformers library](https://huggingface.co/docs/transformers/index) and [Graphcore IPUs](https://www.graphcore.ai/products/ipu).\n",
    "It provides a set of tools enabling model parallelization and loading on IPUs, training and fine-tuning on all the tasks already supported by Transformers while being compatible with the Hugging Face Hub and every model available on it out of the box.\n",
    "\n",
    "> **Hardware requirements:** The Whisper models `whisper-tiny`, `whisper-base` and `whisper-small` can run two replicas on the smallest IPU-POD4 machine. The most capable model, `whisper-large`, will need to use either an IPU-POD16 or a Bow Pod16 machine. Please contact Graphcore if you'd like assistance running model sizes that don't work in this simple example notebook.\n",
    "\n",
    "[![Join our Slack Community](https://img.shields.io/badge/Slack-Join%20Graphcore's%20Community-blue?style=flat-square&logo=slack)](https://www.graphcore.ai/join-community)"
   ]
  },
  {
   "cell_type": "markdown",
   "id": "56a3e2a5",
   "metadata": {},
   "source": [
    "## Environment setup\n",
    "\n",
    "The best way to run this demo is on Paperspace Gradient's cloud IPUs because everything is already set up for you.\n",
    "\n",
    "To run the demo using other IPU hardware, you need to have the Poplar SDK enabled. Refer to the [Getting Started guide](https://docs.graphcore.ai/en/latest/getting-started.html#getting-started) for your system for details on how to enable the Poplar SDK. Also refer to the [Jupyter Quick Start guide](https://docs.graphcore.ai/projects/jupyter-notebook-quick-start/en/latest/index.html) for how to set up Jupyter to be able to run this notebook on a remote IPU machine."
   ]
  },
  {
   "cell_type": "markdown",
   "id": "4be57731",
   "metadata": {},
   "source": [
    "## Dependencies"
   ]
  },
  {
   "cell_type": "markdown",
   "id": "77c2229d-d6f5-4776-841a-7cf328050d30",
   "metadata": {},
   "source": [
    "IPU Whisper runs faster with the latest features available in SDK > 3.3 - check whether those features can be enabled. "
   ]
  },
  {
   "cell_type": "code",
   "execution_count": null,
   "id": "20c8a58c-73dc-4b7c-8f58-e843cb6f32ea",
   "metadata": {},
   "outputs": [],
   "source": [
    "import re\n",
    "import warnings\n",
    "\n",
    "sdk_version = !popc --version\n",
    "if sdk_version and (version := re.search(r'\\d+\\.\\d+\\.\\d+', sdk_version[0]).group()) >= '3.3':\n",
    "    print(f\"SDK check passed.\")\n",
    "    enable_sdk_features=True\n",
    "else:\n",
    "    warnings.warn(\"SDK versions lower than 3.3 do not support all the functionality in this notebook so performance will be reduced. We recommend you relaunch the Paperspace Notebook with the Pytorch SDK 3.3 image. You can use https://hub.docker.com/r/graphcore/pytorch-early-access\", \n",
    "                  category=Warning, stacklevel=2)\n",
    "    enable_sdk_features=False"
   ]
  },
  {
   "cell_type": "markdown",
   "id": "070d9b99",
   "metadata": {},
   "source": [
    "Install the dependencies the notebook needs."
   ]
  },
  {
   "cell_type": "code",
   "execution_count": null,
   "id": "fde99b10-e2d2-4787-877f-fb120e327ccb",
   "metadata": {},
   "outputs": [],
   "source": [
    "# Install optimum from source \n",
    "!pip install git+https://github.com/huggingface/optimum-graphcore.git@1f13c9279921bd064a0a857b044d9c18f7fbca13 \"tokenizers<0.13\" \"transformers==4.25.1\" \"soundfile\" \"librosa\" \"matplotlib\""
   ]
  },
  {
   "cell_type": "markdown",
   "id": "08888a86",
   "metadata": {},
   "source": [
    "## Running Whisper on the IPU\n",
    "\n",
    "We start by importing the required modules, some of which are needed to configure the IPU.\n"
   ]
  },
  {
   "cell_type": "code",
   "execution_count": null,
   "id": "ea6efd44",
   "metadata": {},
   "outputs": [],
   "source": [
    "# Generic imports\n",
    "from datasets import load_dataset\n",
    "import matplotlib.pyplot as plt\n",
    "import librosa\n",
    "import IPython\n",
    "import random\n",
    "\n",
    "# IPU-specific imports\n",
    "from optimum.graphcore import IPUConfig\n",
    "from optimum.graphcore.modeling_utils import to_pipelined\n",
    "from optimum.graphcore.models.whisper import WhisperProcessorTorch\n",
    "\n",
    "# HF-related imports\n",
    "from transformers import WhisperForConditionalGeneration"
   ]
  },
  {
   "cell_type": "markdown",
   "id": "734d8d54",
   "metadata": {},
   "source": [
    "The Whisper model is available on Hugging Face in several sizes, from `whisper-tiny` with 39M parameters to `whisper-large` with 1550M parameters.\n",
    "\n",
    "We download `whisper-tiny` which we will run using two IPUs.\n",
    "The [Whisper architecture](https://openai.com/research/whisper) is an encoder-decoder Transformer, with the audio split into 30-second chunks.\n",
    "For simplicity one IPU is used for the encoder part of the graph and another for the decoder part.\n",
    "The `IPUConfig` object helps to configure the model to be pipelined across the IPUs."
   ]
  },
  {
   "cell_type": "code",
   "execution_count": null,
   "id": "8c5d72f3-cbd6-462f-9741-1726d412c4eb",
   "metadata": {},
   "outputs": [],
   "source": [
    "model_spec = \"openai/whisper-tiny.en\"\n",
    "\n",
    "# Instantiate processor and model\n",
    "processor = WhisperProcessorTorch.from_pretrained(model_spec)\n",
    "model = WhisperForConditionalGeneration.from_pretrained(model_spec)\n",
    "\n",
    "# Adapt whisper-tiny to run on the IPU\n",
    "ipu_config = IPUConfig(ipus_per_replica=2)\n",
    "pipelined_model = to_pipelined(model, ipu_config)\n",
    "pipelined_model = pipelined_model.parallelize(\n",
    "    for_generation=True, \n",
    "    use_cache=True, \n",
    "    batch_size=1, \n",
    "    max_length=250,\n",
    "    on_device_generation_steps=16, \n",
    "    use_encoder_output_buffer=enable_sdk_features).half()"
   ]
  },
  {
   "cell_type": "markdown",
   "id": "9e99620b",
   "metadata": {},
   "source": [
    "Now we can load the dataset and process an example audio file.\n",
    "If precompiled models are not available, then the first run of the model triggers two graph compilations.\n",
    "This means that our first test transcription could take a minute or two to run, but subsequent runs will be much faster."
   ]
  },
  {
   "cell_type": "code",
   "execution_count": null,
   "id": "8ab692b6",
   "metadata": {},
   "outputs": [],
   "source": [
    "# load the dataset and read an example sound file\n",
    "ds = load_dataset(\"hf-internal-testing/librispeech_asr_dummy\", \"clean\", split=\"validation\")\n",
    "test_sample = ds[2]\n",
    "sample_rate = test_sample['audio']['sampling_rate']\n",
    "\n",
    "def transcribe(data, rate):\n",
    "    input_features = processor(data, return_tensors=\"pt\", sampling_rate=rate).input_features.half()\n",
    "\n",
    "    # This triggers a compilation, unless a precompiled model is available.\n",
    "    sample_output = pipelined_model.generate(\n",
    "        input_features,\n",
    "        use_cache=True,\n",
    "        do_sample=False,\n",
    "        max_length=448, \n",
    "        min_length=3)\n",
    "    transcription = processor.batch_decode(sample_output, skip_special_tokens=True)[0]\n",
    "    return transcription\n",
    "\n",
    "test_transcription = transcribe(test_sample[\"audio\"][\"array\"], sample_rate)"
   ]
  },
  {
   "cell_type": "markdown",
   "id": "aa59411d",
   "metadata": {},
   "source": [
    "In the next cell, we compare the expected text from the dataset with the transcribed result from the model.\n",
    "There will typically be some small differences, but even `whisper-tiny` does a great job! It even adds punctuation.\n",
    "\n",
    "You can listen to the audio and compare the model result yourself using the controls below."
   ]
  },
  {
   "cell_type": "code",
   "execution_count": null,
   "id": "17947b7c",
   "metadata": {},
   "outputs": [],
   "source": [
    "print(f\"Expected: {test_sample['text']}\\n\")\n",
    "print(f\"Transcribed: {test_transcription}\")\n",
    "\n",
    "plt.figure(figsize=(14, 5))\n",
    "librosa.display.waveshow(test_sample[\"audio\"][\"array\"], sr=sample_rate)\n",
    "IPython.display.Audio(test_sample[\"audio\"][\"array\"], rate=sample_rate)"
   ]
  },
  {
   "cell_type": "markdown",
   "id": "217f7821-1ddb-425e-995e-a9f084c7ff0b",
   "metadata": {},
   "source": [
    "The model only needs to be compiled once. Subsequent inferences will be much faster.\n",
    "In the cell below, we repeat the exercise but with a random example from the dataset.\n",
    "\n",
    "You might like to re-run this next cell multiple times to get different comparisons."
   ]
  },
  {
   "cell_type": "code",
   "execution_count": null,
   "id": "8c8e9ca3-a932-4e66-97c7-8ffe98d00bf1",
   "metadata": {},
   "outputs": [],
   "source": [
    "idx = random.randint(0, ds.num_rows - 1)\n",
    "data = ds[idx][\"audio\"][\"array\"]\n",
    "\n",
    "print(f\"Example #{idx}\\n\")\n",
    "print(f\"Expected: {ds[idx]['text']}\\n\")\n",
    "print(f\"Transcribed: {transcribe(data, sample_rate)}\")\n",
    "\n",
    "plt.figure(figsize=(14, 5))\n",
    "librosa.display.waveshow(data, sr=sample_rate)\n",
    "IPython.display.Audio(data, rate=sample_rate, autoplay=True)"
   ]
  },
  {
   "cell_type": "markdown",
   "id": "3625a6bf",
   "metadata": {},
   "source": [
    "Finally, we detach the process from the IPUs when we are done to make the IPUs available to other users."
   ]
  },
  {
   "cell_type": "code",
   "execution_count": null,
   "id": "24c1175a",
   "metadata": {},
   "outputs": [],
   "source": [
    "pipelined_model.detachFromDevice()"
   ]
  },
  {
   "cell_type": "markdown",
   "id": "08b4e580-703e-4329-9dba-808a3a1096c8",
   "metadata": {},
   "source": [
    "## Next Steps\n",
    "\n",
    "The `whisper-tiny` model used here is very fast for inference and so cheap to run, but its accuracy can be improved.\n",
    "The `whisper-base` and `whisper-small` models have 74M and 244M parameters respectively (compared to just 39M for `whisper-tiny`). You can try out `whisper-base` and `whisper-small` by changing `model_spec = \"openai/whisper-tiny.en\"` (at the beginning of this notebook) to `model_spec = \"openai/whisper-base.en\"` or `model_spec = \"openai/whisper-small.en\"` respectively.\n",
    "\n",
    "Larger models and multilingual models are also available.\n",
    "To access the multilingual models, remove the `.en` from the checkpoint name. Note however that the multilingual models are slightly less accurate for this English transcription task but they can be used for transcribing other languages or for translating to English.\n",
    "\n",
    "The largest models have 1550M parameters and won't fit with our simple two-IPU pipeline.\n",
    "To run these you will need more than the IPU-POD4. On Paperspace, this is available using either an IPU-POD16 or a Bow Pod16 machine. Please contact Graphcore if you need assistance running these larger models.\n"
   ]
  },
  {
   "cell_type": "markdown",
   "id": "21ff7629",
   "metadata": {},
   "source": [
    "## Conclusion\n",
    "\n",
    "In this notebook we demonstrated using Whisper for speech recognition and transcription on the IPU.\n",
    "We used the Optimum Graphcore package to interface between the IPU and the Hugging Face Transformers library. This meant that only a few lines of code were needed to get this state-of-the-art automated speech recognition model running on IPUs."
   ]
  }
 ],
 "metadata": {
  "kernelspec": {
   "display_name": "Python 3",
   "language": "python",
   "name": "python3"
  },
  "language_info": {
   "codemirror_mode": {
    "name": "ipython",
    "version": 3
   },
   "file_extension": ".py",
   "mimetype": "text/x-python",
   "name": "python",
   "nbconvert_exporter": "python",
   "pygments_lexer": "ipython3",
   "version": "3.8.10"
  }
 },
 "nbformat": 4,
 "nbformat_minor": 5
}
